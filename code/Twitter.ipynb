{
 "cells": [
  {
   "cell_type": "code",
   "execution_count": 37,
   "id": "executed-maple",
   "metadata": {},
   "outputs": [],
   "source": [
    "from config import * \n",
    "from common import *"
   ]
  },
  {
   "cell_type": "code",
   "execution_count": 38,
   "id": "registered-apartment",
   "metadata": {},
   "outputs": [],
   "source": [
    "client = pymongo.MongoClient(f\"mongodb+srv://{mongo_username}:{mongo_pass}@{mongo_url}\")\n",
    "db = client.quotes"
   ]
  },
  {
   "cell_type": "code",
   "execution_count": 39,
   "id": "unlimited-venezuela",
   "metadata": {},
   "outputs": [],
   "source": [
    "try:\n",
    "    current_path = os.path.dirname(os.path.abspath(__file__))\n",
    "except:\n",
    "    current_path = '.'"
   ]
  },
  {
   "cell_type": "code",
   "execution_count": 40,
   "id": "finite-crawford",
   "metadata": {},
   "outputs": [],
   "source": [
    "driver = init_driver (gecko_driver,user_agent = user_agent, is_headless = Headless)"
   ]
  },
  {
   "cell_type": "code",
   "execution_count": 41,
   "id": "surrounded-prison",
   "metadata": {},
   "outputs": [],
   "source": [
    "is_login = load_cookies(driver)\n",
    "if is_login == False:\n",
    "    #print('done')\n",
    "    twitter_login(driver)\n",
    "sleep(10)    "
   ]
  },
  {
   "cell_type": "code",
   "execution_count": 42,
   "id": "banner-hearing",
   "metadata": {},
   "outputs": [],
   "source": [
    "driver.get(twitter_url)\n",
    "sleep(10)\n",
    "if len (driver.find_elements_by_css_selector(\".notranslate.public-DraftEditor-content\")) > 0:\n",
    "    Quotes = list(db.quotes.find( {'published_at':False} ).limit(5))\n",
    "    for quote in Quotes:\n",
    "        publish_quote(driver,quote)\n",
    "        sleep(page_load_timeout)\n",
    "       "
   ]
  },
  {
   "cell_type": "code",
   "execution_count": 60,
   "id": "light-turkey",
   "metadata": {},
   "outputs": [],
   "source": []
  },
  {
   "cell_type": "code",
   "execution_count": null,
   "id": "supposed-carol",
   "metadata": {},
   "outputs": [],
   "source": []
  }
 ],
 "metadata": {
  "kernelspec": {
   "display_name": "Python 3",
   "language": "python",
   "name": "python3"
  },
  "language_info": {
   "codemirror_mode": {
    "name": "ipython",
    "version": 3
   },
   "file_extension": ".py",
   "mimetype": "text/x-python",
   "name": "python",
   "nbconvert_exporter": "python",
   "pygments_lexer": "ipython3",
   "version": "3.8.5"
  }
 },
 "nbformat": 4,
 "nbformat_minor": 5
}
